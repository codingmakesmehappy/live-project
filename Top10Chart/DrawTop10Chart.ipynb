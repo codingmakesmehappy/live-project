{
 "cells": [
  {
   "cell_type": "code",
   "execution_count": 18,
   "metadata": {},
   "outputs": [],
   "source": [
    "from pyecharts import Bar\n",
    "from pyecharts import Line\n",
    "from collections import Counter\n",
    "import re\n",
    "\n",
    "record = \"\"\n",
    "top10 = {}\n",
    "num = []\n",
    "frequency =[]\n",
    "with open('PlusA.txt','r',encoding='utf-8') as file:\n",
    "    for char in file:\n",
    "        record += char\n",
    "        #print(char)\n",
    "        #print(record)\n",
    "      \n",
    "pattern = re.compile(\"([0-9]{9})\")   # 匹配账号\n",
    "numlist = pattern.findall(record)\n",
    "#print(numlist)\n",
    "\n",
    "C = Counter(numlist)#对各个账号发言次数进行统计并排序\n",
    "top10 = C.most_common(10)\n",
    "\n",
    "#top10数据处理\n",
    "for i in top10:\n",
    "    num.append(i[0])\n",
    "    frequency.append(i[1])\n",
    "\n",
    "#绘制图表\n",
    "bar = Bar('最能水群榜','发言最多的同学')\n",
    "kwargs = dict(\n",
    "    name = '发言次数',\n",
    "    x_axis = num,\n",
    "    y_axis = frequency,\n",
    "    bar_category_gap = 25\n",
    ")\n",
    "bar.add(**kwargs)\n",
    "bar.render(\"top10chart.html\")\n",
    "\n",
    "\n"
   ]
  },
  {
   "cell_type": "code",
   "execution_count": null,
   "metadata": {},
   "outputs": [],
   "source": []
  }
 ],
 "metadata": {
  "kernelspec": {
   "display_name": "Python 3",
   "language": "python",
   "name": "python3"
  },
  "language_info": {
   "codemirror_mode": {
    "name": "ipython",
    "version": 3
   },
   "file_extension": ".py",
   "mimetype": "text/x-python",
   "name": "python",
   "nbconvert_exporter": "python",
   "pygments_lexer": "ipython3",
   "version": "3.7.1"
  }
 },
 "nbformat": 4,
 "nbformat_minor": 2
}
