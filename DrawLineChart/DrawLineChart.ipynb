{
 "cells": [
  {
   "cell_type": "code",
   "execution_count": 2,
   "metadata": {},
   "outputs": [
    {
     "name": "stdout",
     "output_type": "stream",
     "text": [
      "[637, 49, 14, 2, 0, 3, 9, 26, 195, 265, 647, 977, 685, 507, 411, 437, 846, 932, 829, 685, 943, 1394, 1709, 1397]\n",
      "['0点', '1点', '2点', '3点', '4点', '5点', '6点', '7点', '8点', '9点', '10点', '11点', '12点', '13点', '14点', '15点', '16点', '17点', '18点', '19点', '20点', '21点', '22点', '23点']\n"
     ]
    }
   ],
   "source": [
    "from pyecharts import Bar\n",
    "from pyecharts import Line\n",
    "import re\n",
    "\n",
    "record = \"\"\n",
    "timearr= [0,0,0,0,0,0,0,0,0,0,0,0,0,0,0,0,0,0,0,0,0,0,0,0]\n",
    "with open('PlusA.txt','r',encoding='utf-8') as file:\n",
    "    for char in file:\n",
    "        record += char\n",
    "        #print(char)\n",
    "        #print(record)\n",
    "\n",
    "pattern = re.compile(\"([0-1]?[0-9]|2[0-3]):([0-5][0-9]):([0-5][0-9])\")   # 查找时间\n",
    "timelist = pattern.findall(record)\n",
    "\n",
    "#统计时间\n",
    "for i in timelist:\n",
    "    x = int(i[0])%24\n",
    "    #print(x)\n",
    "    timearr[x] = timearr[x] + 1\n",
    "print(timearr)\n",
    "\n",
    "#绘制 发言量—时间 折线图\n",
    "attr = []\n",
    "for i in range(0,24):\n",
    "    attr.append(str(i)+\"点\")\n",
    "\n",
    "print(attr)\n",
    "\n",
    "v1 = timearr\n",
    "\n",
    "line = Line(\"各时间段发言量分布\")\n",
    "line.add(\"时间段内消息总数\",attr, v1,is_smooth = True)\n",
    "line.render('line01.html')\n",
    "\n",
    "\n",
    "\n",
    "\n",
    "        \n",
    "        \n",
    "\n",
    "\n",
    "    \n",
    "\n",
    "            \n",
    "        \n",
    "        \n",
    "            \n",
    "#Regex.IsMatch(arr[0], \"((?!0000)[0-9]{4}-((0[1-9]|1[0-2])-(0[1-9]|1[0-9]|2[0-8])|(0[13-9]|1[0-2])-(29|30)|(0[13578]|1[02])-31)|([0-9]{2}(0[48]|[2468][048]|[13579][26])|(0[48]|[2468][048]|[13579][26])00)-02-29)\") &&\n",
    "# Regex.IsMatch(arr[1], \"(0[1-9]|1[0-9]|2[0-3]):(0[0-9]|[1-5][0-9]|60):(0[0-9]|[1-5][0-9]|60)\")        \n",
    "        \n",
    "        \n",
    "        "
   ]
  },
  {
   "cell_type": "code",
   "execution_count": null,
   "metadata": {},
   "outputs": [],
   "source": []
  },
  {
   "cell_type": "code",
   "execution_count": null,
   "metadata": {},
   "outputs": [],
   "source": []
  },
  {
   "cell_type": "code",
   "execution_count": null,
   "metadata": {},
   "outputs": [],
   "source": []
  },
  {
   "cell_type": "code",
   "execution_count": null,
   "metadata": {},
   "outputs": [],
   "source": []
  },
  {
   "cell_type": "code",
   "execution_count": null,
   "metadata": {},
   "outputs": [],
   "source": []
  },
  {
   "cell_type": "code",
   "execution_count": null,
   "metadata": {},
   "outputs": [],
   "source": []
  },
  {
   "cell_type": "code",
   "execution_count": null,
   "metadata": {},
   "outputs": [],
   "source": []
  }
 ],
 "metadata": {
  "kernelspec": {
   "display_name": "Python 3",
   "language": "python",
   "name": "python3"
  },
  "language_info": {
   "codemirror_mode": {
    "name": "ipython",
    "version": 3
   },
   "file_extension": ".py",
   "mimetype": "text/x-python",
   "name": "python",
   "nbconvert_exporter": "python",
   "pygments_lexer": "ipython3",
   "version": "3.7.1"
  }
 },
 "nbformat": 4,
 "nbformat_minor": 2
}
